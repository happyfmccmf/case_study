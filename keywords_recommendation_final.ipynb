{
 "cells": [
  {
   "cell_type": "markdown",
   "metadata": {},
   "source": [
    "## step 1: preprocess the data, including adding the header,remove the null data "
   ]
  },
  {
   "cell_type": "code",
   "execution_count": 119,
   "metadata": {},
   "outputs": [],
   "source": [
    "import pandas as pd\n",
    "## load the train and test data into dataframe\n",
    "## import the train data without header\n",
    "train = pd.read_excel('train.xlsx', header=None,encode='utf-8')\n",
    "## import the test data \n",
    "test = pd.read_excel('test.xlsx',encode='utf-8')"
   ]
  },
  {
   "cell_type": "code",
   "execution_count": 120,
   "metadata": {},
   "outputs": [],
   "source": [
    "import dataprocesor\n",
    "reload(dataprocesor)\n",
    "from dataprocesor import DataProcessor"
   ]
  },
  {
   "cell_type": "code",
   "execution_count": 121,
   "metadata": {
    "collapsed": true
   },
   "outputs": [],
   "source": [
    "## initialize the dataprocess class\n",
    "dp = DataProcessor(train,test)"
   ]
  },
  {
   "cell_type": "code",
   "execution_count": 122,
   "metadata": {},
   "outputs": [
    {
     "name": "stdout",
     "output_type": "stream",
     "text": [
      "the raw information for the train data\n"
     ]
    }
   ],
   "source": [
    "print 'the raw information for the train data'"
   ]
  },
  {
   "cell_type": "code",
   "execution_count": 123,
   "metadata": {},
   "outputs": [
    {
     "data": {
      "text/html": [
       "<div>\n",
       "<table border=\"1\" class=\"dataframe\">\n",
       "  <thead>\n",
       "    <tr style=\"text-align: right;\">\n",
       "      <th></th>\n",
       "      <th>0</th>\n",
       "      <th>1</th>\n",
       "      <th>2</th>\n",
       "      <th>3</th>\n",
       "      <th>4</th>\n",
       "    </tr>\n",
       "  </thead>\n",
       "  <tbody>\n",
       "    <tr>\n",
       "      <th>0</th>\n",
       "      <td>--- X 10 --- 七色 多層次搭配 圓下擺 LAYERED 素面 無袖背心 打底</td>\n",
       "      <td>Male Fashion</td>\n",
       "      <td>無袖</td>\n",
       "      <td>Impression</td>\n",
       "      <td>31/7/17</td>\n",
       "    </tr>\n",
       "    <tr>\n",
       "      <th>1</th>\n",
       "      <td>︱IBIT︱Gymshark 熱銷款 運動T恤 健身T恤 圓領短T 運動短T 健身鯊魚</td>\n",
       "      <td>Male Fashion</td>\n",
       "      <td>gymshark</td>\n",
       "      <td>Impression</td>\n",
       "      <td>31/7/17</td>\n",
       "    </tr>\n",
       "    <tr>\n",
       "      <th>2</th>\n",
       "      <td>︱IBIT︱Gymshark 超高彈性 短褲 運動短褲 跑步短褲 深蹲褲 訓練短褲</td>\n",
       "      <td>Male Fashion</td>\n",
       "      <td>gymshark</td>\n",
       "      <td>Impression</td>\n",
       "      <td>31/7/17</td>\n",
       "    </tr>\n",
       "    <tr>\n",
       "      <th>3</th>\n",
       "      <td>::另類情侶兄弟姊妹殼::電力滿格/不足黑白趣味浮雕手機軟殼i5/i5s/i5se/i6/i...</td>\n",
       "      <td>Mobile &amp; Gadgets</td>\n",
       "      <td>軟殼</td>\n",
       "      <td>Click</td>\n",
       "      <td>31/7/17</td>\n",
       "    </tr>\n",
       "    <tr>\n",
       "      <th>4</th>\n",
       "      <td>：新舊手機商場：Iphone6 16金 （需要看細圖密我）</td>\n",
       "      <td>Mobile &amp; Gadgets</td>\n",
       "      <td>iphone6 系列</td>\n",
       "      <td>Impression</td>\n",
       "      <td>30/7/17</td>\n",
       "    </tr>\n",
       "  </tbody>\n",
       "</table>\n",
       "</div>"
      ],
      "text/plain": [
       "                                                   0                 1  \\\n",
       "0       --- X 10 --- 七色 多層次搭配 圓下擺 LAYERED 素面 無袖背心 打底      Male Fashion   \n",
       "1        ︱IBIT︱Gymshark 熱銷款 運動T恤 健身T恤 圓領短T 運動短T 健身鯊魚      Male Fashion   \n",
       "2          ︱IBIT︱Gymshark 超高彈性 短褲 運動短褲 跑步短褲 深蹲褲 訓練短褲      Male Fashion   \n",
       "3  ::另類情侶兄弟姊妹殼::電力滿格/不足黑白趣味浮雕手機軟殼i5/i5s/i5se/i6/i...  Mobile & Gadgets   \n",
       "4                      ：新舊手機商場：Iphone6 16金 （需要看細圖密我）  Mobile & Gadgets   \n",
       "\n",
       "            2           3        4  \n",
       "0          無袖  Impression  31/7/17  \n",
       "1    gymshark  Impression  31/7/17  \n",
       "2    gymshark  Impression  31/7/17  \n",
       "3          軟殼       Click  31/7/17  \n",
       "4  iphone6 系列  Impression  30/7/17  "
      ]
     },
     "execution_count": 123,
     "metadata": {},
     "output_type": "execute_result"
    }
   ],
   "source": [
    "train.head()"
   ]
  },
  {
   "cell_type": "code",
   "execution_count": 124,
   "metadata": {},
   "outputs": [
    {
     "name": "stdout",
     "output_type": "stream",
     "text": [
      "<class 'pandas.core.frame.DataFrame'>\n",
      "RangeIndex: 10317 entries, 0 to 10316\n",
      "Data columns (total 5 columns):\n",
      "0    10304 non-null object\n",
      "1    10317 non-null object\n",
      "2    10317 non-null object\n",
      "3    10317 non-null object\n",
      "4    10317 non-null object\n",
      "dtypes: object(5)\n",
      "memory usage: 403.1+ KB\n"
     ]
    }
   ],
   "source": [
    "train.info()"
   ]
  },
  {
   "cell_type": "code",
   "execution_count": 125,
   "metadata": {
    "collapsed": true
   },
   "outputs": [],
   "source": [
    "### data cleaning, include removing null data, adding the column title\n",
    "train = dp.preprocess()"
   ]
  },
  {
   "cell_type": "code",
   "execution_count": 126,
   "metadata": {},
   "outputs": [
    {
     "name": "stdout",
     "output_type": "stream",
     "text": [
      "after process, the train data information\n"
     ]
    }
   ],
   "source": [
    "print 'after process, the train data information'"
   ]
  },
  {
   "cell_type": "code",
   "execution_count": 127,
   "metadata": {},
   "outputs": [
    {
     "data": {
      "text/html": [
       "<div>\n",
       "<table border=\"1\" class=\"dataframe\">\n",
       "  <thead>\n",
       "    <tr style=\"text-align: right;\">\n",
       "      <th></th>\n",
       "      <th>Product Name</th>\n",
       "      <th>Category</th>\n",
       "      <th>Query</th>\n",
       "      <th>Event</th>\n",
       "      <th>Date</th>\n",
       "    </tr>\n",
       "  </thead>\n",
       "  <tbody>\n",
       "    <tr>\n",
       "      <th>0</th>\n",
       "      <td>--- X 10 --- 七色 多層次搭配 圓下擺 LAYERED 素面 無袖背心 打底</td>\n",
       "      <td>Male Fashion</td>\n",
       "      <td>無袖</td>\n",
       "      <td>Impression</td>\n",
       "      <td>31/7/17</td>\n",
       "    </tr>\n",
       "    <tr>\n",
       "      <th>1</th>\n",
       "      <td>︱IBIT︱Gymshark 熱銷款 運動T恤 健身T恤 圓領短T 運動短T 健身鯊魚</td>\n",
       "      <td>Male Fashion</td>\n",
       "      <td>gymshark</td>\n",
       "      <td>Impression</td>\n",
       "      <td>31/7/17</td>\n",
       "    </tr>\n",
       "    <tr>\n",
       "      <th>2</th>\n",
       "      <td>︱IBIT︱Gymshark 超高彈性 短褲 運動短褲 跑步短褲 深蹲褲 訓練短褲</td>\n",
       "      <td>Male Fashion</td>\n",
       "      <td>gymshark</td>\n",
       "      <td>Impression</td>\n",
       "      <td>31/7/17</td>\n",
       "    </tr>\n",
       "    <tr>\n",
       "      <th>3</th>\n",
       "      <td>::另類情侶兄弟姊妹殼::電力滿格/不足黑白趣味浮雕手機軟殼i5/i5s/i5se/i6/i...</td>\n",
       "      <td>Mobile &amp; Gadgets</td>\n",
       "      <td>軟殼</td>\n",
       "      <td>Click</td>\n",
       "      <td>31/7/17</td>\n",
       "    </tr>\n",
       "    <tr>\n",
       "      <th>4</th>\n",
       "      <td>：新舊手機商場：Iphone6 16金 （需要看細圖密我）</td>\n",
       "      <td>Mobile &amp; Gadgets</td>\n",
       "      <td>iphone6 系列</td>\n",
       "      <td>Impression</td>\n",
       "      <td>30/7/17</td>\n",
       "    </tr>\n",
       "  </tbody>\n",
       "</table>\n",
       "</div>"
      ],
      "text/plain": [
       "                                        Product Name          Category  \\\n",
       "0       --- X 10 --- 七色 多層次搭配 圓下擺 LAYERED 素面 無袖背心 打底      Male Fashion   \n",
       "1        ︱IBIT︱Gymshark 熱銷款 運動T恤 健身T恤 圓領短T 運動短T 健身鯊魚      Male Fashion   \n",
       "2          ︱IBIT︱Gymshark 超高彈性 短褲 運動短褲 跑步短褲 深蹲褲 訓練短褲      Male Fashion   \n",
       "3  ::另類情侶兄弟姊妹殼::電力滿格/不足黑白趣味浮雕手機軟殼i5/i5s/i5se/i6/i...  Mobile & Gadgets   \n",
       "4                      ：新舊手機商場：Iphone6 16金 （需要看細圖密我）  Mobile & Gadgets   \n",
       "\n",
       "        Query       Event     Date  \n",
       "0          無袖  Impression  31/7/17  \n",
       "1    gymshark  Impression  31/7/17  \n",
       "2    gymshark  Impression  31/7/17  \n",
       "3          軟殼       Click  31/7/17  \n",
       "4  iphone6 系列  Impression  30/7/17  "
      ]
     },
     "execution_count": 127,
     "metadata": {},
     "output_type": "execute_result"
    }
   ],
   "source": [
    "train.head()"
   ]
  },
  {
   "cell_type": "code",
   "execution_count": 128,
   "metadata": {},
   "outputs": [
    {
     "name": "stdout",
     "output_type": "stream",
     "text": [
      "<class 'pandas.core.frame.DataFrame'>\n",
      "Int64Index: 10303 entries, 0 to 10303\n",
      "Data columns (total 5 columns):\n",
      "Product Name    10303 non-null object\n",
      "Category        10303 non-null object\n",
      "Query           10303 non-null object\n",
      "Event           10303 non-null object\n",
      "Date            10303 non-null object\n",
      "dtypes: object(5)\n",
      "memory usage: 483.0+ KB\n"
     ]
    }
   ],
   "source": [
    "train.info()"
   ]
  },
  {
   "cell_type": "markdown",
   "metadata": {},
   "source": [
    "## Step 2: Continue to process the train data\n",
    "#### Step 2.1 segment the Product name using jieba"
   ]
  },
  {
   "cell_type": "code",
   "execution_count": 129,
   "metadata": {},
   "outputs": [],
   "source": [
    "train['product_fenci'] = dp.jieba_fenci(train)\n",
    "train['Product Seg'] = map(lambda x: dp.remove_space(x.split('|')), train['product_fenci'])\n",
    "train.drop('product_fenci',1, inplace=True)"
   ]
  },
  {
   "cell_type": "code",
   "execution_count": 130,
   "metadata": {},
   "outputs": [
    {
     "data": {
      "text/html": [
       "<div>\n",
       "<table border=\"1\" class=\"dataframe\">\n",
       "  <thead>\n",
       "    <tr style=\"text-align: right;\">\n",
       "      <th></th>\n",
       "      <th>Product Name</th>\n",
       "      <th>Category</th>\n",
       "      <th>Query</th>\n",
       "      <th>Event</th>\n",
       "      <th>Date</th>\n",
       "      <th>Product Seg</th>\n",
       "    </tr>\n",
       "  </thead>\n",
       "  <tbody>\n",
       "    <tr>\n",
       "      <th>0</th>\n",
       "      <td>--- X 10 --- 七色 多層次搭配 圓下擺 LAYERED 素面 無袖背心 打底</td>\n",
       "      <td>Male Fashion</td>\n",
       "      <td>無袖</td>\n",
       "      <td>Impression</td>\n",
       "      <td>31/7/17</td>\n",
       "      <td>[X, 10, 七色, 多層次, 搭配, 圓下, 擺, LAYERED, 素面, 無袖, 背...</td>\n",
       "    </tr>\n",
       "    <tr>\n",
       "      <th>1</th>\n",
       "      <td>︱IBIT︱Gymshark 熱銷款 運動T恤 健身T恤 圓領短T 運動短T 健身鯊魚</td>\n",
       "      <td>Male Fashion</td>\n",
       "      <td>gymshark</td>\n",
       "      <td>Impression</td>\n",
       "      <td>31/7/17</td>\n",
       "      <td>[IBIT, Gymshark, 熱銷款, 運動, T恤, 健身, T恤, 圓領, 短, T...</td>\n",
       "    </tr>\n",
       "    <tr>\n",
       "      <th>2</th>\n",
       "      <td>︱IBIT︱Gymshark 超高彈性 短褲 運動短褲 跑步短褲 深蹲褲 訓練短褲</td>\n",
       "      <td>Male Fashion</td>\n",
       "      <td>gymshark</td>\n",
       "      <td>Impression</td>\n",
       "      <td>31/7/17</td>\n",
       "      <td>[IBIT, Gymshark, 超高, 彈性, 短褲, 運動, 短褲, 跑步, 短褲, 深...</td>\n",
       "    </tr>\n",
       "    <tr>\n",
       "      <th>3</th>\n",
       "      <td>::另類情侶兄弟姊妹殼::電力滿格/不足黑白趣味浮雕手機軟殼i5/i5s/i5se/i6/i...</td>\n",
       "      <td>Mobile &amp; Gadgets</td>\n",
       "      <td>軟殼</td>\n",
       "      <td>Click</td>\n",
       "      <td>31/7/17</td>\n",
       "      <td>[另類, 情侶, 兄弟, 姊妹, 殼, 電力, 滿格, 不足, 黑白, 趣味, 浮雕, 手機...</td>\n",
       "    </tr>\n",
       "    <tr>\n",
       "      <th>4</th>\n",
       "      <td>：新舊手機商場：Iphone6 16金 （需要看細圖密我）</td>\n",
       "      <td>Mobile &amp; Gadgets</td>\n",
       "      <td>iphone6 系列</td>\n",
       "      <td>Impression</td>\n",
       "      <td>30/7/17</td>\n",
       "      <td>[新舊, 手機, 商場, Iphone6, 16, 金, 需要, 看細, 圖密, 我]</td>\n",
       "    </tr>\n",
       "  </tbody>\n",
       "</table>\n",
       "</div>"
      ],
      "text/plain": [
       "                                        Product Name          Category  \\\n",
       "0       --- X 10 --- 七色 多層次搭配 圓下擺 LAYERED 素面 無袖背心 打底      Male Fashion   \n",
       "1        ︱IBIT︱Gymshark 熱銷款 運動T恤 健身T恤 圓領短T 運動短T 健身鯊魚      Male Fashion   \n",
       "2          ︱IBIT︱Gymshark 超高彈性 短褲 運動短褲 跑步短褲 深蹲褲 訓練短褲      Male Fashion   \n",
       "3  ::另類情侶兄弟姊妹殼::電力滿格/不足黑白趣味浮雕手機軟殼i5/i5s/i5se/i6/i...  Mobile & Gadgets   \n",
       "4                      ：新舊手機商場：Iphone6 16金 （需要看細圖密我）  Mobile & Gadgets   \n",
       "\n",
       "        Query       Event     Date  \\\n",
       "0          無袖  Impression  31/7/17   \n",
       "1    gymshark  Impression  31/7/17   \n",
       "2    gymshark  Impression  31/7/17   \n",
       "3          軟殼       Click  31/7/17   \n",
       "4  iphone6 系列  Impression  30/7/17   \n",
       "\n",
       "                                         Product Seg  \n",
       "0  [X, 10, 七色, 多層次, 搭配, 圓下, 擺, LAYERED, 素面, 無袖, 背...  \n",
       "1  [IBIT, Gymshark, 熱銷款, 運動, T恤, 健身, T恤, 圓領, 短, T...  \n",
       "2  [IBIT, Gymshark, 超高, 彈性, 短褲, 運動, 短褲, 跑步, 短褲, 深...  \n",
       "3  [另類, 情侶, 兄弟, 姊妹, 殼, 電力, 滿格, 不足, 黑白, 趣味, 浮雕, 手機...  \n",
       "4        [新舊, 手機, 商場, Iphone6, 16, 金, 需要, 看細, 圖密, 我]  "
      ]
     },
     "execution_count": 130,
     "metadata": {},
     "output_type": "execute_result"
    }
   ],
   "source": [
    "train.head()"
   ]
  },
  {
   "cell_type": "markdown",
   "metadata": {},
   "source": [
    "## Step 2 : Continue to process the train data\n",
    "#### Step 2.2.   evaluation the query quality"
   ]
  },
  {
   "cell_type": "code",
   "execution_count": 131,
   "metadata": {
    "collapsed": true
   },
   "outputs": [],
   "source": [
    "### event count for the query \n",
    "query_term_all  = list(train['Query'].values)\n",
    "## to total count number when the particular query appeared as 'impression' \n",
    "train['Impression No'] = dp.event_count(u'Impression', query_term_all)\n",
    "## to total count number when the particular query appeared as 'click' \n",
    "train['Click No'] = dp.event_count(u'Click',query_term_all)\n",
    "## the ctr represent the quality of the query\n",
    "train['CTR']= train['Click No']/(train['Click No']+ train['Impression No']) "
   ]
  },
  {
   "cell_type": "code",
   "execution_count": 132,
   "metadata": {},
   "outputs": [
    {
     "data": {
      "text/html": [
       "<div>\n",
       "<table border=\"1\" class=\"dataframe\">\n",
       "  <thead>\n",
       "    <tr style=\"text-align: right;\">\n",
       "      <th></th>\n",
       "      <th>Product Name</th>\n",
       "      <th>Category</th>\n",
       "      <th>Query</th>\n",
       "      <th>Event</th>\n",
       "      <th>Date</th>\n",
       "      <th>Product Seg</th>\n",
       "      <th>Impression No</th>\n",
       "      <th>Click No</th>\n",
       "      <th>CTR</th>\n",
       "    </tr>\n",
       "  </thead>\n",
       "  <tbody>\n",
       "    <tr>\n",
       "      <th>0</th>\n",
       "      <td>--- X 10 --- 七色 多層次搭配 圓下擺 LAYERED 素面 無袖背心 打底</td>\n",
       "      <td>Male Fashion</td>\n",
       "      <td>無袖</td>\n",
       "      <td>Impression</td>\n",
       "      <td>31/7/17</td>\n",
       "      <td>[X, 10, 七色, 多層次, 搭配, 圓下, 擺, LAYERED, 素面, 無袖, 背...</td>\n",
       "      <td>16</td>\n",
       "      <td>2</td>\n",
       "      <td>0.111111</td>\n",
       "    </tr>\n",
       "    <tr>\n",
       "      <th>1</th>\n",
       "      <td>︱IBIT︱Gymshark 熱銷款 運動T恤 健身T恤 圓領短T 運動短T 健身鯊魚</td>\n",
       "      <td>Male Fashion</td>\n",
       "      <td>gymshark</td>\n",
       "      <td>Impression</td>\n",
       "      <td>31/7/17</td>\n",
       "      <td>[IBIT, Gymshark, 熱銷款, 運動, T恤, 健身, T恤, 圓領, 短, T...</td>\n",
       "      <td>5</td>\n",
       "      <td>0</td>\n",
       "      <td>0.000000</td>\n",
       "    </tr>\n",
       "    <tr>\n",
       "      <th>2</th>\n",
       "      <td>︱IBIT︱Gymshark 超高彈性 短褲 運動短褲 跑步短褲 深蹲褲 訓練短褲</td>\n",
       "      <td>Male Fashion</td>\n",
       "      <td>gymshark</td>\n",
       "      <td>Impression</td>\n",
       "      <td>31/7/17</td>\n",
       "      <td>[IBIT, Gymshark, 超高, 彈性, 短褲, 運動, 短褲, 跑步, 短褲, 深...</td>\n",
       "      <td>5</td>\n",
       "      <td>0</td>\n",
       "      <td>0.000000</td>\n",
       "    </tr>\n",
       "    <tr>\n",
       "      <th>3</th>\n",
       "      <td>::另類情侶兄弟姊妹殼::電力滿格/不足黑白趣味浮雕手機軟殼i5/i5s/i5se/i6/i...</td>\n",
       "      <td>Mobile &amp; Gadgets</td>\n",
       "      <td>軟殼</td>\n",
       "      <td>Click</td>\n",
       "      <td>31/7/17</td>\n",
       "      <td>[另類, 情侶, 兄弟, 姊妹, 殼, 電力, 滿格, 不足, 黑白, 趣味, 浮雕, 手機...</td>\n",
       "      <td>1</td>\n",
       "      <td>1</td>\n",
       "      <td>0.500000</td>\n",
       "    </tr>\n",
       "    <tr>\n",
       "      <th>4</th>\n",
       "      <td>：新舊手機商場：Iphone6 16金 （需要看細圖密我）</td>\n",
       "      <td>Mobile &amp; Gadgets</td>\n",
       "      <td>iphone6 系列</td>\n",
       "      <td>Impression</td>\n",
       "      <td>30/7/17</td>\n",
       "      <td>[新舊, 手機, 商場, Iphone6, 16, 金, 需要, 看細, 圖密, 我]</td>\n",
       "      <td>38</td>\n",
       "      <td>12</td>\n",
       "      <td>0.240000</td>\n",
       "    </tr>\n",
       "  </tbody>\n",
       "</table>\n",
       "</div>"
      ],
      "text/plain": [
       "                                        Product Name          Category  \\\n",
       "0       --- X 10 --- 七色 多層次搭配 圓下擺 LAYERED 素面 無袖背心 打底      Male Fashion   \n",
       "1        ︱IBIT︱Gymshark 熱銷款 運動T恤 健身T恤 圓領短T 運動短T 健身鯊魚      Male Fashion   \n",
       "2          ︱IBIT︱Gymshark 超高彈性 短褲 運動短褲 跑步短褲 深蹲褲 訓練短褲      Male Fashion   \n",
       "3  ::另類情侶兄弟姊妹殼::電力滿格/不足黑白趣味浮雕手機軟殼i5/i5s/i5se/i6/i...  Mobile & Gadgets   \n",
       "4                      ：新舊手機商場：Iphone6 16金 （需要看細圖密我）  Mobile & Gadgets   \n",
       "\n",
       "        Query       Event     Date  \\\n",
       "0          無袖  Impression  31/7/17   \n",
       "1    gymshark  Impression  31/7/17   \n",
       "2    gymshark  Impression  31/7/17   \n",
       "3          軟殼       Click  31/7/17   \n",
       "4  iphone6 系列  Impression  30/7/17   \n",
       "\n",
       "                                         Product Seg  Impression No  Click No  \\\n",
       "0  [X, 10, 七色, 多層次, 搭配, 圓下, 擺, LAYERED, 素面, 無袖, 背...             16         2   \n",
       "1  [IBIT, Gymshark, 熱銷款, 運動, T恤, 健身, T恤, 圓領, 短, T...              5         0   \n",
       "2  [IBIT, Gymshark, 超高, 彈性, 短褲, 運動, 短褲, 跑步, 短褲, 深...              5         0   \n",
       "3  [另類, 情侶, 兄弟, 姊妹, 殼, 電力, 滿格, 不足, 黑白, 趣味, 浮雕, 手機...              1         1   \n",
       "4        [新舊, 手機, 商場, Iphone6, 16, 金, 需要, 看細, 圖密, 我]             38        12   \n",
       "\n",
       "        CTR  \n",
       "0  0.111111  \n",
       "1  0.000000  \n",
       "2  0.000000  \n",
       "3  0.500000  \n",
       "4  0.240000  "
      ]
     },
     "execution_count": 132,
     "metadata": {},
     "output_type": "execute_result"
    }
   ],
   "source": [
    "train.head()"
   ]
  },
  {
   "cell_type": "markdown",
   "metadata": {},
   "source": [
    "## Step3 :  Create a similarity model \n",
    "#### first need to create a dictionary and corpus, and then covert the corpus to vector in tfidf space, finally build a similarity index model"
   ]
  },
  {
   "cell_type": "code",
   "execution_count": 133,
   "metadata": {},
   "outputs": [
    {
     "name": "stdout",
     "output_type": "stream",
     "text": [
      "generating the dictionary\n",
      "Dictionary(22053 unique tokens: [u'\\u9ede\\u96ea\\u7d21\\u7d17', u'\\u7b2c\\u4e8c', u'\\u5c0f\\u817f', u'\\u5e73\\u5b89', u'\\u5bec\\u7248\\u6d0b\\u88dd']...)\n",
      "tfidf model info: TfidfModel(num_docs=10303, num_nnz=160034)\n",
      "the maximum len of the vector 50\n",
      "the average len of the vector 15.5327574493\n"
     ]
    }
   ],
   "source": [
    "index = dp.get_index()"
   ]
  },
  {
   "cell_type": "markdown",
   "metadata": {},
   "source": [
    "## Step 4  Raise a query of product, get the similar product list\n",
    "#### process the test data"
   ]
  },
  {
   "cell_type": "code",
   "execution_count": 134,
   "metadata": {
    "collapsed": true
   },
   "outputs": [],
   "source": [
    "test ['product_fenci'] = dp.jieba_fenci(test)\n",
    "test['Product Seg'] = map(lambda x: dp.remove_space(x.split('|')), test['product_fenci'])\n",
    "test.drop('product_fenci',1, inplace=True)\n",
    "test['Product Seg'] = map(lambda x: dp.lower_case(x), test['Product Seg'])"
   ]
  },
  {
   "cell_type": "code",
   "execution_count": 135,
   "metadata": {},
   "outputs": [
    {
     "data": {
      "text/html": [
       "<div>\n",
       "<table border=\"1\" class=\"dataframe\">\n",
       "  <thead>\n",
       "    <tr style=\"text-align: right;\">\n",
       "      <th></th>\n",
       "      <th>Product Name</th>\n",
       "      <th>Category</th>\n",
       "      <th>Product Seg</th>\n",
       "    </tr>\n",
       "  </thead>\n",
       "  <tbody>\n",
       "    <tr>\n",
       "      <th>0</th>\n",
       "      <td>寬鬆顯瘦大碼運動套裝T恤女夏季胖mm短袖短褲時尚休閒服兩件套</td>\n",
       "      <td>Female Clothes</td>\n",
       "      <td>[寬, 鬆, 顯, 瘦, 大, 碼, 運, 動, 套, 裝, t恤, 女, 夏季, 胖, m...</td>\n",
       "    </tr>\n",
       "    <tr>\n",
       "      <th>1</th>\n",
       "      <td>♬【現貨實拍】夏季新款 2017韓版熱銷淑女夏裝間約氣質條紋背心吊帶連體褲顯瘦闊腿褲</td>\n",
       "      <td>Female Clothes</td>\n",
       "      <td>[現貨實, 拍, 夏季, 新款, 2017, 韓版, 熱銷, 淑女, 夏裝間, 約, 氣質,...</td>\n",
       "    </tr>\n",
       "    <tr>\n",
       "      <th>2</th>\n",
       "      <td>新款時尚大碼女士服裝韓版印花短袖 t恤女夏寬鬆顯瘦</td>\n",
       "      <td>Female Clothes</td>\n",
       "      <td>[新款, 時尚, 大碼, 女士, 服裝, 韓版, 印花, 短袖, t, 恤, 女夏, 寬, ...</td>\n",
       "    </tr>\n",
       "    <tr>\n",
       "      <th>3</th>\n",
       "      <td>a la sha 粉紅色阿財長版上衣</td>\n",
       "      <td>Female Clothes</td>\n",
       "      <td>[a, la, sha, 粉紅色, 阿財長, 版, 上衣]</td>\n",
       "    </tr>\n",
       "    <tr>\n",
       "      <th>4</th>\n",
       "      <td>女人的店~上班短裙.包臀裙.西裝裙(垂性很好.不易皺.不起球.不沾毛) 350元</td>\n",
       "      <td>Female Clothes</td>\n",
       "      <td>[女人, 的, 店, 上班, 短裙, 包, 臀, 裙, 西裝, 裙, 垂性, 很, 好, 不...</td>\n",
       "    </tr>\n",
       "  </tbody>\n",
       "</table>\n",
       "</div>"
      ],
      "text/plain": [
       "                                 Product Name        Category  \\\n",
       "0              寬鬆顯瘦大碼運動套裝T恤女夏季胖mm短袖短褲時尚休閒服兩件套  Female Clothes   \n",
       "1  ♬【現貨實拍】夏季新款 2017韓版熱銷淑女夏裝間約氣質條紋背心吊帶連體褲顯瘦闊腿褲  Female Clothes   \n",
       "2                   新款時尚大碼女士服裝韓版印花短袖 t恤女夏寬鬆顯瘦  Female Clothes   \n",
       "3                          a la sha 粉紅色阿財長版上衣  Female Clothes   \n",
       "4    女人的店~上班短裙.包臀裙.西裝裙(垂性很好.不易皺.不起球.不沾毛) 350元  Female Clothes   \n",
       "\n",
       "                                         Product Seg  \n",
       "0  [寬, 鬆, 顯, 瘦, 大, 碼, 運, 動, 套, 裝, t恤, 女, 夏季, 胖, m...  \n",
       "1  [現貨實, 拍, 夏季, 新款, 2017, 韓版, 熱銷, 淑女, 夏裝間, 約, 氣質,...  \n",
       "2  [新款, 時尚, 大碼, 女士, 服裝, 韓版, 印花, 短袖, t, 恤, 女夏, 寬, ...  \n",
       "3                      [a, la, sha, 粉紅色, 阿財長, 版, 上衣]  \n",
       "4  [女人, 的, 店, 上班, 短裙, 包, 臀, 裙, 西裝, 裙, 垂性, 很, 好, 不...  "
      ]
     },
     "execution_count": 135,
     "metadata": {},
     "output_type": "execute_result"
    }
   ],
   "source": [
    "test.head()"
   ]
  },
  {
   "cell_type": "code",
   "execution_count": 136,
   "metadata": {},
   "outputs": [],
   "source": [
    "### recommend keywords for the product from test data \n",
    "test['keyword recommend']= ''\n",
    "### configurable parameters\n",
    "num_similar_product_list = 40 #### number of similar product you want to get\n",
    "num_keyword = 2 ### the number of keywords to show \n",
    "weight = [0.1, 0.1, 0.2,0.1, 0.4, 0.1] ## [query_count,ctr,similrity,click,relevance,event]\n",
    "column_list = ['Event','Query','Impression No', 'Click No','CTR'] \n",
    "\n",
    "for row in test.iterrows():\n",
    "    row_location = row[0]\n",
    "    ### retrieve the produt segment\n",
    "    product_texts_cuts = test['Product Seg'][row_location]\n",
    "    ### get the similar product list\n",
    "    similar_product = dp.get_similar_product_list(product_texts_cuts,num_similar_product_list, column_list)\n",
    "    ### add more evaluators for the query\n",
    "    similar_product_evaluate = dp.get_evaluate_product_list(weight,similar_product,product_texts_cuts,row_location)\n",
    "    ### recommend keywords according the total score of the keywords\n",
    "    test_submit = dp.get_recommend_keyword(similar_product_evaluate,num_keyword,row_location)"
   ]
  },
  {
   "cell_type": "code",
   "execution_count": 137,
   "metadata": {},
   "outputs": [
    {
     "data": {
      "text/html": [
       "<div>\n",
       "<table border=\"1\" class=\"dataframe\">\n",
       "  <thead>\n",
       "    <tr style=\"text-align: right;\">\n",
       "      <th></th>\n",
       "      <th>Product Name</th>\n",
       "      <th>Category</th>\n",
       "      <th>Product Seg</th>\n",
       "      <th>keyword recommend</th>\n",
       "    </tr>\n",
       "  </thead>\n",
       "  <tbody>\n",
       "    <tr>\n",
       "      <th>0</th>\n",
       "      <td>寬鬆顯瘦大碼運動套裝T恤女夏季胖mm短袖短褲時尚休閒服兩件套</td>\n",
       "      <td>Female Clothes</td>\n",
       "      <td>[寬, 鬆, 顯, 瘦, 大, 碼, 運, 動, 套, 裝, t恤, 女, 夏季, 胖, m...</td>\n",
       "      <td>寬鬆短袖,運動套裝</td>\n",
       "    </tr>\n",
       "    <tr>\n",
       "      <th>1</th>\n",
       "      <td>♬【現貨實拍】夏季新款 2017韓版熱銷淑女夏裝間約氣質條紋背心吊帶連體褲顯瘦闊腿褲</td>\n",
       "      <td>Female Clothes</td>\n",
       "      <td>[現貨實, 拍, 夏季, 新款, 2017, 韓版, 熱銷, 淑女, 夏裝間, 約, 氣質,...</td>\n",
       "      <td>吊帶褲,吊帶褲 吊帶長褲</td>\n",
       "    </tr>\n",
       "    <tr>\n",
       "      <th>2</th>\n",
       "      <td>新款時尚大碼女士服裝韓版印花短袖 t恤女夏寬鬆顯瘦</td>\n",
       "      <td>Female Clothes</td>\n",
       "      <td>[新款, 時尚, 大碼, 女士, 服裝, 韓版, 印花, 短袖, t, 恤, 女夏, 寬, ...</td>\n",
       "      <td>短袖t恤,寬鬆短袖</td>\n",
       "    </tr>\n",
       "    <tr>\n",
       "      <th>3</th>\n",
       "      <td>a la sha 粉紅色阿財長版上衣</td>\n",
       "      <td>Female Clothes</td>\n",
       "      <td>[a, la, sha, 粉紅色, 阿財長, 版, 上衣]</td>\n",
       "      <td>a la sha,a la sha 褲裙</td>\n",
       "    </tr>\n",
       "    <tr>\n",
       "      <th>4</th>\n",
       "      <td>女人的店~上班短裙.包臀裙.西裝裙(垂性很好.不易皺.不起球.不沾毛) 350元</td>\n",
       "      <td>Female Clothes</td>\n",
       "      <td>[女人, 的, 店, 上班, 短裙, 包, 臀, 裙, 西裝, 裙, 垂性, 很, 好, 不...</td>\n",
       "      <td>包臀裙,裙</td>\n",
       "    </tr>\n",
       "  </tbody>\n",
       "</table>\n",
       "</div>"
      ],
      "text/plain": [
       "                                 Product Name        Category  \\\n",
       "0              寬鬆顯瘦大碼運動套裝T恤女夏季胖mm短袖短褲時尚休閒服兩件套  Female Clothes   \n",
       "1  ♬【現貨實拍】夏季新款 2017韓版熱銷淑女夏裝間約氣質條紋背心吊帶連體褲顯瘦闊腿褲  Female Clothes   \n",
       "2                   新款時尚大碼女士服裝韓版印花短袖 t恤女夏寬鬆顯瘦  Female Clothes   \n",
       "3                          a la sha 粉紅色阿財長版上衣  Female Clothes   \n",
       "4    女人的店~上班短裙.包臀裙.西裝裙(垂性很好.不易皺.不起球.不沾毛) 350元  Female Clothes   \n",
       "\n",
       "                                         Product Seg     keyword recommend  \n",
       "0  [寬, 鬆, 顯, 瘦, 大, 碼, 運, 動, 套, 裝, t恤, 女, 夏季, 胖, m...             寬鬆短袖,運動套裝  \n",
       "1  [現貨實, 拍, 夏季, 新款, 2017, 韓版, 熱銷, 淑女, 夏裝間, 約, 氣質,...          吊帶褲,吊帶褲 吊帶長褲  \n",
       "2  [新款, 時尚, 大碼, 女士, 服裝, 韓版, 印花, 短袖, t, 恤, 女夏, 寬, ...             短袖t恤,寬鬆短袖  \n",
       "3                      [a, la, sha, 粉紅色, 阿財長, 版, 上衣]  a la sha,a la sha 褲裙  \n",
       "4  [女人, 的, 店, 上班, 短裙, 包, 臀, 裙, 西裝, 裙, 垂性, 很, 好, 不...                 包臀裙,裙  "
      ]
     },
     "execution_count": 137,
     "metadata": {},
     "output_type": "execute_result"
    }
   ],
   "source": [
    "test_submit.head()"
   ]
  },
  {
   "cell_type": "code",
   "execution_count": 140,
   "metadata": {
    "collapsed": true
   },
   "outputs": [],
   "source": [
    "### save the result to csv file\n",
    "column = ['Product Name','Category','keyword recommend']\n",
    "test_submit[column].to_csv('test_submit.csv', index=False, encoding='utf-8')\n"
   ]
  },
  {
   "cell_type": "markdown",
   "metadata": {},
   "source": [
    "#### try lsi model"
   ]
  },
  {
   "cell_type": "code",
   "execution_count": 24,
   "metadata": {},
   "outputs": [
    {
     "ename": "SyntaxError",
     "evalue": "EOF while scanning triple-quoted string literal (<ipython-input-24-23421fbc6557>, line 18)",
     "output_type": "error",
     "traceback": [
      "\u001b[0;36m  File \u001b[0;32m\"<ipython-input-24-23421fbc6557>\"\u001b[0;36m, line \u001b[0;32m18\u001b[0m\n\u001b[0;31m    ''''''\u001b[0m\n\u001b[0m          \n^\u001b[0m\n\u001b[0;31mSyntaxError\u001b[0m\u001b[0;31m:\u001b[0m EOF while scanning triple-quoted string literal\n"
     ]
    }
   ],
   "source": [
    "'''''''''\n",
    "#### take long time to run the lsi model\n",
    "### try lsi model\n",
    "### recommend the keyword for the product from test data \n",
    "test['keyword recommend']= ''\n",
    "\n",
    "num_similar_product_list = 20 #### number of similar product you want to get\n",
    "number_keyword = 2 ### the number of keywords to show \n",
    "\n",
    "column_list = ['Query','Impression No', 'Click No','CTR'] \n",
    "\n",
    "for row in test[0:10].iterrows():\n",
    "    row_location = row[0]\n",
    "    ### retrieve the produt segment\n",
    "    product_texts_cuts = test['Product Seg'][row_location]\n",
    "    ### get the similar product list\n",
    "    similar_product = dp.get_similarity_product_list_lsi(product_texts_cuts,num_similar_product_list, column_list)\n",
    "''''''"
   ]
  },
  {
   "cell_type": "code",
   "execution_count": null,
   "metadata": {
    "collapsed": true
   },
   "outputs": [],
   "source": [
    " "
   ]
  }
 ],
 "metadata": {
  "kernelspec": {
   "display_name": "Python 2",
   "language": "python",
   "name": "python2"
  },
  "language_info": {
   "codemirror_mode": {
    "name": "ipython",
    "version": 2
   },
   "file_extension": ".py",
   "mimetype": "text/x-python",
   "name": "python",
   "nbconvert_exporter": "python",
   "pygments_lexer": "ipython2",
   "version": "2.7.6"
  }
 },
 "nbformat": 4,
 "nbformat_minor": 2
}
